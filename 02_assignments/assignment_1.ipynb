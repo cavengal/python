{
 "cells": [
  {
   "cell_type": "markdown",
   "metadata": {},
   "source": [
    "# Assignment #1: Anagram Checker\n",
    "\n",
    "**Background**: Anagram Checker is a program that takes two words and determines if an anagram can be made from it. If so, the program will return `true`, otherwise `false`."
   ]
  },
  {
   "cell_type": "markdown",
   "metadata": {},
   "source": [
    "## Submission Information\n",
    "\n",
    "🚨 **Please review our [Assignment Submission Guide](https://github.com/UofT-DSI/onboarding/blob/main/onboarding_documents/submissions.md)** 🚨 for detailed instructions on how to format, branch, and submit your work. Following these guidelines is crucial for your submissions to be evaluated correctly.\n",
    "\n",
    "### Submission Parameters:\n",
    "* Submission Due Date: `11:59 PM - 05/05/2024`\n",
    "* The branch name for your repo should be: `assignment-1`\n",
    "* What to submit for this assignment:\n",
    "    * This Jupyter Notebook (assignment_1.ipynb) should be populated and should be the only change in your pull request.\n",
    "* What the pull request link should look like for this assignment: `https://github.com/<your_github_username>/python/pull/<pr_id>`\n",
    "    * Open a private window in your browser. Copy and paste the link to your pull request into the address bar. Make sure you can see your pull request properly. This helps the technical facilitator and learning support staff review your submission easily.\n",
    "\n",
    "Checklist:\n",
    "- [X] Created a branch with the correct naming convention.\n",
    "- [X] Ensured that the repository is public.\n",
    "- [X] Reviewed the PR description guidelines and adhered to them.\n",
    "- [X] Verify that the link is accessible in a private browser window.\n",
    "\n",
    "If you encounter any difficulties or have questions, please don't hesitate to reach out to our team via our Slack at `#cohort-3-help`. Our Technical Facilitators and Learning Support staff are here to help you navigate any challenges."
   ]
  },
  {
   "cell_type": "markdown",
   "metadata": {},
   "source": [
    "### Part 1: Building the base Anagram Checker\n",
    "\n",
    "Given two valid strings, check to see if they are anagrams of each other. If it is, return `True`, else `False`. For this part, we can assume that uppercase letters are the same as if it was a lowercase character.\n",
    "\n",
    "Examples of anagrams:\n",
    "* Slient and Listen\n",
    "* Night and Think\n",
    "\n",
    "Example outputs:\n",
    "```python\n",
    "anagram_checker(\"Slient\", \"listen\") # True\n",
    "anagram_checker(\"Slient\", \"Night\") # False\n",
    "anagram_checker(\"night\", \"Thing\") # True\n",
    "```"
   ]
  },
  {
   "cell_type": "code",
   "execution_count": 1,
   "metadata": {},
   "outputs": [
    {
     "data": {
      "text/plain": [
       "True"
      ]
     },
     "execution_count": 1,
     "metadata": {},
     "output_type": "execute_result"
    }
   ],
   "source": [
    "# This is a function, which we will learn more about next week. For testing purposes, we will write our code in the function\n",
    "def anagram_checker(word_a, word_b):\n",
    "    '''anagram_checker compares two valid strings (single words only) to see if they are anagrams of each other.\n",
    "\n",
    "    Parameters:\n",
    "    word_a (str): First word\n",
    "    word_b (str): Second word\n",
    "\n",
    "    Returns:\n",
    "    bool:True if words are anagrams of each other / False if words are NOT anagrams of each other\n",
    "    '''\n",
    "    #Introducing a conditional to control that inputs are one words without spaces before testing for anagram\n",
    "    if \" \" in (word_a or word_b):\n",
    "        return \"One or both of your input words contain a space. The anagram_checker function is designed to check single words only. Please remove spaces and try again\"\n",
    "    else:\n",
    "        #Converting word_a into a list, and using methods to make the word lower case and sort the list with the word's letters\n",
    "        word_a_list=[] #Creates empty list for word_a's extension into list\n",
    "        word_a_list.extend(word_a.lower()) #Turns word_a into list of it's letters in lower case\n",
    "        word_a_list.sort() #Sorts list of letters for word_a\n",
    "        #Converting word_b into a list, and using methods to make the word lower case and sort the list with the word's letters\n",
    "        word_b_list=[] #Creates empty list for word_b's extension into list\n",
    "        word_b_list.extend(word_b.lower()) #Turns word_b into list of it's letters in lower case\n",
    "        word_b_list.sort() #Sorts list of letters for word_b\n",
    "    return word_a_list==word_b_list #compares the two sorted lists and returns Boolean True/False\n",
    "\n",
    "# Run your code to check using the words below:\n",
    "anagram_checker(\"Slient\", \"listen\")"
   ]
  },
  {
   "cell_type": "code",
   "execution_count": 2,
   "metadata": {},
   "outputs": [
    {
     "data": {
      "text/plain": [
       "False"
      ]
     },
     "execution_count": 2,
     "metadata": {},
     "output_type": "execute_result"
    }
   ],
   "source": [
    "anagram_checker(\"Slient\", \"Night\")"
   ]
  },
  {
   "cell_type": "code",
   "execution_count": 3,
   "metadata": {},
   "outputs": [
    {
     "data": {
      "text/plain": [
       "True"
      ]
     },
     "execution_count": 3,
     "metadata": {},
     "output_type": "execute_result"
    }
   ],
   "source": [
    "anagram_checker(\"night\", \"Thing\")"
   ]
  },
  {
   "cell_type": "markdown",
   "metadata": {},
   "source": [
    "### Part 2: Expanding the functionality of the Anagram Checker\n",
    "\n",
    "Using your existing and functional anagram checker, let's add a boolean option called `is_case_sensitive`, which will return `True` or `False` based on if the two compared words are anagrams and if we are checking for case sensitivity."
   ]
  },
  {
   "cell_type": "code",
   "execution_count": 4,
   "metadata": {},
   "outputs": [
    {
     "data": {
      "text/plain": [
       "True"
      ]
     },
     "execution_count": 4,
     "metadata": {},
     "output_type": "execute_result"
    }
   ],
   "source": [
    "def anagram_checker(word_a, word_b, is_case_sensitive):\n",
    "    '''anagram_checker compares two valid strings (single words only) to see if they are anagrams of each other, and allows user to control\n",
    "    for case sensitive comparisson or not \n",
    "\n",
    "    Parameters:\n",
    "    word_a (str): First word\n",
    "    word_b (str): Second word\n",
    "    is_case_sensitive (bool): True or 1= Case sensitive / False or 0 = NOT case sensitive\n",
    "\n",
    "    Returns:\n",
    "    bool:True if words are anagrams of each other controlling for case sensitivity \n",
    "    / False if words are NOT anagrams of each other controlling for case sensitivity\n",
    "    '''\n",
    "    #Introducing a conditional to control that inputs are one words without spaces before testing for anagram\n",
    "    if \" \" in (word_a or word_b):\n",
    "        return \"One or both of your input words contain a space. The anagram_checker function is designed to check single words only. Please remove spaces and try again\"\n",
    "    elif is_case_sensitive==False:\n",
    "        #Converting word_a into a list, and using methods to make the word lower case and sort the list with the word's letters\n",
    "        word_a_list=[] #Creates empty list for word_a's extension into list\n",
    "        word_a_list.extend(word_a.lower()) #Turns word_a into list of it's letters in lower case\n",
    "        word_a_list.sort() #Sorts list of letters for word_a\n",
    "        #Converting word_b into a list, and using methods to make the word lower case and sort the list with the word's letters\n",
    "        word_b_list=[] #Creates empty list for word_b's extension into list\n",
    "        word_b_list.extend(word_b.lower()) #Turns word_b into list of it's letters in lower case\n",
    "        word_b_list.sort() #Sorts list of letters for word_b\n",
    "        return word_a_list==word_b_list #compares the two sorted lists and returns Boolean True/False\n",
    "    elif is_case_sensitive==True:\n",
    "        #Converting word_a into a list, and sort the list with the word's letters in original Case format\n",
    "        word_a_list=[] #Creates empty list for word_a's extension into list\n",
    "        word_a_list.extend(word_a) #Turns word_a into list of it's letters keeping original letter case format\n",
    "        word_a_list.sort() #Sorts list of letters for word_a\n",
    "        #Converting word_b into a list, and using methods to make the word lower case and sort the list with the word's letters\n",
    "        word_b_list=[] #Creates empty list for word_b's extension into list\n",
    "        word_b_list.extend(word_b) #Turns word_b into list of it's letters keeping original letter case format\n",
    "        word_b_list.sort() #Sorts list of letters for word_b\n",
    "        return word_a_list==word_b_list #compares the two sorted lists and returns Boolean True/False\n",
    "    else:\n",
    "        return \"Invalid input for 'is_case_sensitive' argument. Make sure input is boolean\"\n",
    "\n",
    "# Run your code to check using the words below:\n",
    "anagram_checker(\"Slient\", \"listen\", False) # True"
   ]
  },
  {
   "cell_type": "code",
   "execution_count": 5,
   "metadata": {},
   "outputs": [
    {
     "data": {
      "text/plain": [
       "False"
      ]
     },
     "execution_count": 5,
     "metadata": {},
     "output_type": "execute_result"
    }
   ],
   "source": [
    "anagram_checker(\"Slient\", \"Listen\", True) # False"
   ]
  },
  {
   "cell_type": "markdown",
   "metadata": {},
   "source": [
    "|Criteria|Pass|Fail|\n",
    "|---|---|---|\n",
    "|Code Execution|All code cells execute without errors.|Any code cell produces an error upon execution.|\n",
    "|Code Quality|Code is well-organized, concise, and includes necessary comments for clarity. E.g. Great use of variable names.|Code is unorganized, verbose, or lacks necessary comments. E.g. Single character variable names outside of loops.|"
   ]
  }
 ],
 "metadata": {
  "kernelspec": {
   "display_name": "new-learner",
   "language": "python",
   "name": "python3"
  },
  "language_info": {
   "codemirror_mode": {
    "name": "ipython",
    "version": 3
   },
   "file_extension": ".py",
   "mimetype": "text/x-python",
   "name": "python",
   "nbconvert_exporter": "python",
   "pygments_lexer": "ipython3",
   "version": "3.9.15"
  }
 },
 "nbformat": 4,
 "nbformat_minor": 2
}
